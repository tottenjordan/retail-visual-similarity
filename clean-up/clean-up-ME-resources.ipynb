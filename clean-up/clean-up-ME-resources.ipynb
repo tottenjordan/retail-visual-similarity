{
 "cells": [
  {
   "cell_type": "markdown",
   "id": "7d17d74f-c371-4233-98e2-4dec741c708e",
   "metadata": {},
   "source": [
    "# Clean Up Matching Engine Indexes, Endpoints\n",
    "\n",
    "### TODO:\n",
    "* clean-up notebook"
   ]
  },
  {
   "cell_type": "markdown",
   "id": "ae93dc3a-3670-4b75-a675-9088f2679d6c",
   "metadata": {},
   "source": [
    "## From Pipeline Notebook"
   ]
  },
  {
   "cell_type": "markdown",
   "id": "b96623e7-0ab0-4139-9b26-38e452d65bbf",
   "metadata": {},
   "source": [
    "**Steps to clean-up:**\n",
    "* undeploy all indexes associated with an `IndexEndpoint`\n",
    "* delete `IndexEndpoint`\n",
    "* delete `Index`"
   ]
  },
  {
   "cell_type": "code",
   "execution_count": null,
   "id": "dc5f03ff-89b9-4e95-9e49-a1d396d02045",
   "metadata": {},
   "outputs": [],
   "source": [
    "# PROJECT_ID='jtotten-project'\n",
    "# REGION='us-central1'\n",
    "\n",
    "# index_endpoint_id = '2011437775760392192'\n",
    "\n",
    "# deployed_ann_index_id = 'ann_1280_deployed_index_fishfood_2-20220318194251'\n",
    "# deployed_brute_index_id ='brute_force_1280_deployed_index_fishfood_2-20220318194351'\n",
    "\n",
    "# ann_index_id = '1833264115502546944'\n",
    "# brute_index_id = '842472197481037824'\n",
    "\n",
    "# !gcloud beta ai index-endpoints undeploy-index $index_endpoint_id --project=\"jtotten-project\" --region=us-central1 --deployed-index-id=$deployed_ann_index_id"
   ]
  },
  {
   "cell_type": "markdown",
   "id": "6ebb2804-5037-4fa3-939b-5af8854a99e6",
   "metadata": {},
   "source": [
    "Find indexes, delete as needed"
   ]
  },
  {
   "cell_type": "code",
   "execution_count": null,
   "id": "c22f1e4d-5935-4dfc-adaf-1efe535dde53",
   "metadata": {},
   "outputs": [],
   "source": [
    "# !gcloud beta ai indexes list --project=\"jtotten-project\" --region=us-central1"
   ]
  },
  {
   "cell_type": "markdown",
   "id": "88fc7460-bf12-4705-a4ed-400bd07312fd",
   "metadata": {},
   "source": [
    "SDK examples..."
   ]
  },
  {
   "cell_type": "code",
   "execution_count": null,
   "id": "576cec0f-6f94-4a72-99ac-a7b88373c295",
   "metadata": {},
   "outputs": [],
   "source": [
    "# my_index_endpoint = aiplatform.MatchingEngineIndexEndpoint(index_endpoint_name=\"projects/163017677720/locations/us-central1/indexEndpoints/6683658506366615552\")\n",
    "# my_index_endpoint.delete(force=True)\n",
    "\n",
    "# Delete indexes\n",
    "# ann_index.delete(force=True)\n",
    "# brute_force_index.delete(force=True)"
   ]
  },
  {
   "cell_type": "code",
   "execution_count": null,
   "id": "57f4d143-5536-46e1-a3c7-a50d9e8806cd",
   "metadata": {},
   "outputs": [],
   "source": [
    "# Force undeployment of indexes and delete endpoint\n",
    "# my_index_endpoint.delete(force=True)\n",
    "\n",
    "# # Delete indexes\n",
    "# ann_index.delete(force=True)\n",
    "# brute_force_index.delete(force=True)"
   ]
  },
  {
   "cell_type": "markdown",
   "id": "e27e78ba-de4d-4846-b0e2-af70658126f0",
   "metadata": {},
   "source": [
    "### From Data prep Notebook"
   ]
  },
  {
   "cell_type": "markdown",
   "id": "542cf390-1d91-4b5a-a5a5-4f6100cf9e5d",
   "metadata": {},
   "source": [
    "* gcloud [docs](https://cloud.google.com/sdk/gcloud/reference/beta/ai/index-endpoints/list) for index-endpoints\n",
    "* gcloud [docs](https://cloud.google.com/sdk/gcloud/reference/beta/ai/indexes/list) for indexes"
   ]
  },
  {
   "cell_type": "markdown",
   "id": "02a58aea-8120-4a70-a6c6-8c1111cf5cc2",
   "metadata": {},
   "source": [
    "### Find index endpoints, undeploy indexes as needed"
   ]
  },
  {
   "cell_type": "code",
   "execution_count": null,
   "id": "c040dc26-2bda-4f9c-89ae-954cd34a595b",
   "metadata": {},
   "outputs": [],
   "source": [
    "!gcloud beta ai index-endpoints list --project=\"hybrid-vertex\" --region=us-central1\n",
    "# \"projects/163017677720/locations/us-central1/indexEndpoints/8569751956560543744\""
   ]
  },
  {
   "cell_type": "code",
   "execution_count": null,
   "id": "83018cdf-b69d-4729-95fd-d2c318f51a96",
   "metadata": {},
   "outputs": [],
   "source": [
    "# my_index_endpoint = aiplatform.MatchingEngineIndexEndpoint(index_endpoint_name=\"projects/163017677720/locations/us-central1/indexEndpoints/6683658506366615552\")\n",
    "# my_index_endpoint.delete(force=True)"
   ]
  },
  {
   "cell_type": "code",
   "execution_count": null,
   "id": "9d0ef6c6-da16-43a1-a93b-b7c79b698535",
   "metadata": {},
   "outputs": [],
   "source": [
    "# my_index_endpoint.undeploy_all()\n",
    "\n",
    "# my_index_endpoint.delete(force=True)"
   ]
  },
  {
   "cell_type": "markdown",
   "id": "7ea3460d-3bfc-4577-b20e-3582fbe81c76",
   "metadata": {},
   "source": [
    "### Find indexes, delete as needed"
   ]
  },
  {
   "cell_type": "code",
   "execution_count": null,
   "id": "82029293-dd97-49a1-822e-06ce810f693c",
   "metadata": {},
   "outputs": [],
   "source": [
    "!gcloud beta ai indexes list --project=\"hybrid-vertex\" --region=us-central1"
   ]
  },
  {
   "cell_type": "code",
   "execution_count": null,
   "id": "48eb906c-1312-4438-980c-ea4d3d1daea3",
   "metadata": {},
   "outputs": [],
   "source": [
    "# ann_index = aiplatform.MatchingEngineIndex(index_name=\"projects/1012616486416/locations/us-central1/indexes/7108896827432239104\")"
   ]
  },
  {
   "cell_type": "code",
   "execution_count": null,
   "id": "1b5d8053-4dad-4120-b2fe-7c117e1450b0",
   "metadata": {},
   "outputs": [],
   "source": [
    "# Delete indexes\n",
    "# ann_index.delete(force=True)\n",
    "# brute_force_index.delete(force=True)"
   ]
  },
  {
   "cell_type": "code",
   "execution_count": null,
   "id": "98869598-d64a-404d-b191-1bd093e9ad6e",
   "metadata": {},
   "outputs": [],
   "source": [
    "!gcloud beta ai index-endpoints list --project=\"jtotten-project\" --region=us-central1\n",
    "# my_index_endpoint = aiplatform.MatchingEngineIndexEndpoint(index_endpoint_name=\"projects/163017677720/locations/us-central1/indexEndpoints/8569751956560543744\")"
   ]
  },
  {
   "cell_type": "code",
   "execution_count": null,
   "id": "61242524-b4e1-4a71-86c6-6a39f9be90ea",
   "metadata": {},
   "outputs": [],
   "source": []
  }
 ],
 "metadata": {
  "environment": {
   "kernel": "python3",
   "name": "tf2-gpu.2-8.m95",
   "type": "gcloud",
   "uri": "gcr.io/deeplearning-platform-release/tf2-gpu.2-8:m95"
  },
  "kernelspec": {
   "display_name": "Python 3",
   "language": "python",
   "name": "python3"
  },
  "language_info": {
   "codemirror_mode": {
    "name": "ipython",
    "version": 3
   },
   "file_extension": ".py",
   "mimetype": "text/x-python",
   "name": "python",
   "nbconvert_exporter": "python",
   "pygments_lexer": "ipython3",
   "version": "3.7.12"
  }
 },
 "nbformat": 4,
 "nbformat_minor": 5
}
