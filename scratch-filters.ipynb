{
 "cells": [
  {
   "cell_type": "markdown",
   "id": "d46604d0-6226-4850-86bb-3bcc21b81b08",
   "metadata": {},
   "source": [
    "# Filtering Vector Attributes"
   ]
  },
  {
   "cell_type": "code",
   "execution_count": null,
   "id": "df4767f8-e506-439a-bb56-3d4965c7106b",
   "metadata": {},
   "outputs": [],
   "source": [
    "# !pip install ipyplot"
   ]
  },
  {
   "cell_type": "code",
   "execution_count": 1,
   "id": "116f13ed-e0ba-463b-84a9-eae9822e7a5e",
   "metadata": {},
   "outputs": [
    {
     "name": "stdout",
     "output_type": "stream",
     "text": [
      "Updated property [core/project].\n"
     ]
    }
   ],
   "source": [
    "PROJECT_ID = 'hybrid-vertex'  # <--- TODO: CHANGE THIS\n",
    "LOCATION = 'us-central1' \n",
    "!gcloud config set project {PROJECT_ID}"
   ]
  },
  {
   "cell_type": "code",
   "execution_count": 216,
   "id": "98f15742-3ab5-4ecc-be89-122b2a577292",
   "metadata": {},
   "outputs": [],
   "source": [
    "from google.cloud import aiplatform as vertex_ai\n",
    "from google.cloud import storage\n",
    "\n",
    "from pprint import pprint\n",
    "\n",
    "storage_client = storage.Client(project=PROJECT_ID)\n",
    "\n",
    "vertex_ai.init(project=PROJECT_ID,location=LOCATION)"
   ]
  },
  {
   "cell_type": "markdown",
   "id": "9f2416e4-c99e-404a-bc90-8d6a08986de6",
   "metadata": {},
   "source": [
    "## pre-trained model"
   ]
  },
  {
   "cell_type": "code",
   "execution_count": 20,
   "id": "74f67057-0048-4f8f-9159-21d91b5f7b23",
   "metadata": {},
   "outputs": [],
   "source": [
    "import os \n",
    "\n",
    "os.environ['TFHUB_MODEL_LOAD_FORMAT'] = 'COMPRESSED'\n",
    "TF_HUB_MODEL_DIR = \"https://tfhub.dev/google/tf2-preview/mobilenet_v2/feature_vector/4\"\n",
    "\n",
    "IMG_HEIGHT = 224\n",
    "IMG_WIDTH = 224\n",
    "IMG_CHANNELS = 3"
   ]
  },
  {
   "cell_type": "code",
   "execution_count": 21,
   "id": "9eb458c9-7aa7-400e-aab0-af21c262aa27",
   "metadata": {},
   "outputs": [],
   "source": [
    "import tensorflow as tf\n",
    "\n",
    "def read_and_decode(filename, reshape_dims=[IMG_HEIGHT, IMG_WIDTH]):\n",
    "    # Read the file\n",
    "    img = tf.io.read_file(filename)\n",
    "  \n",
    "    # Convert the compressed string to a 3D uint8 tensor.\n",
    "    img = tf.image.decode_jpeg(img, channels=IMG_CHANNELS)\n",
    "\n",
    "    # Use `convert_image_dtype` to convert to floats in the [0,1] range.\n",
    "    # This makes the img 1 x 224 x 224 x 3 tensor with the data type of float32\n",
    "    img = tf.image.convert_image_dtype(img, tf.float32)[tf.newaxis, ...]\n",
    "\n",
    "    # Resize the image to the desired size.\n",
    "    return tf.image.resize(img, reshape_dims)"
   ]
  },
  {
   "cell_type": "code",
   "execution_count": 278,
   "id": "b1a7dd24-4628-4e76-9018-5910ba084429",
   "metadata": {},
   "outputs": [],
   "source": [
    "FILE_NAME = f'{DEST_FOLDER}/train/train/097924837X.jpg'\n",
    "# TEST_IMG_PATH = f'gs://{BUCKET}/{FILE_NAME}'\n",
    "# array = read_and_decode(TEST_IMG_PATH)\n",
    "# array.numpy()"
   ]
  },
  {
   "cell_type": "code",
   "execution_count": 22,
   "id": "4c023f42-865d-491d-a3e0-bb3d602279a6",
   "metadata": {},
   "outputs": [
    {
     "name": "stdout",
     "output_type": "stream",
     "text": [
      "Model: \"visual_embedding\"\n",
      "_________________________________________________________________\n",
      " Layer (type)                Output Shape              Param #   \n",
      "=================================================================\n",
      " mobilenet_embedding (KerasL  (None, 1280)             2257984   \n",
      " ayer)                                                           \n",
      "                                                                 \n",
      " flatten (Flatten)           (None, 1280)              0         \n",
      "                                                                 \n",
      "=================================================================\n",
      "Total params: 2,257,984\n",
      "Trainable params: 0\n",
      "Non-trainable params: 2,257,984\n",
      "_________________________________________________________________\n",
      "None\n"
     ]
    }
   ],
   "source": [
    "import tensorflow_hub as hub\n",
    "\n",
    "layers = [\n",
    "      hub.KerasLayer(\n",
    "          f\"{TF_HUB_MODEL_DIR}\",\n",
    "          input_shape=(IMG_HEIGHT, IMG_WIDTH, IMG_CHANNELS),\n",
    "          trainable=False,\n",
    "          name='mobilenet_embedding'),\n",
    "      tf.keras.layers.Flatten()\n",
    "]\n",
    "model = tf.keras.Sequential(\n",
    "    layers, name='visual_embedding'\n",
    ")\n",
    "print(model.summary())"
   ]
  },
  {
   "cell_type": "markdown",
   "id": "596d288c-008d-4254-a99b-50135dc21748",
   "metadata": {},
   "source": [
    "### local testing"
   ]
  },
  {
   "cell_type": "code",
   "execution_count": 312,
   "id": "a5841771-3e19-4113-955c-0eff2a71d5d3",
   "metadata": {},
   "outputs": [],
   "source": [
    "BUCKET = 'retail-products-kaggle'\n",
    "DEST_FOLDER = 'dataset'\n",
    "CSV_URI = f'gs://{BUCKET}/{DEST_FOLDER}/train.csv'"
   ]
  },
  {
   "cell_type": "code",
   "execution_count": 313,
   "id": "ef678092-fdec-497b-b503-adca82e7d8a1",
   "metadata": {},
   "outputs": [
    {
     "data": {
      "text/plain": [
       "Arts, Crafts & Sewing        2225\n",
       "Beauty                       2202\n",
       "Grocery & Gourmet Food       2201\n",
       "Sports & Outdoors            2201\n",
       "Automotive                   2200\n",
       "Industrial & Scientific      2200\n",
       "Musical Instruments          2200\n",
       "Appliances                   2200\n",
       "Office Products              2200\n",
       "All Beauty                   2200\n",
       "Toys & Games                 2200\n",
       "Electronics                  2200\n",
       "All Electronics              2200\n",
       "Cell Phones & Accessories    2200\n",
       "Patio, Lawn & Garden         2200\n",
       "Baby                         2200\n",
       "Baby Products                2200\n",
       "Health & Personal Care       2200\n",
       "Tools & Home Improvement     2200\n",
       "Clothing, Shoes & Jewelry    2200\n",
       "Pet Supplies                 2200\n",
       "Name: categories, dtype: int64"
      ]
     },
     "execution_count": 313,
     "metadata": {},
     "output_type": "execute_result"
    }
   ],
   "source": [
    "train_csv = pd.read_csv(CSV_URI)\n",
    "train_csv['categories'].value_counts()"
   ]
  },
  {
   "cell_type": "code",
   "execution_count": 314,
   "id": "d98e7a18-30a0-4183-b516-fbea2581d982",
   "metadata": {},
   "outputs": [],
   "source": [
    "DEST_FOLDER = 'data-full'\n",
    "CSV_URI = f'gs://{BUCKET}/{DEST_FOLDER}/train.csv'"
   ]
  },
  {
   "cell_type": "code",
   "execution_count": 315,
   "id": "60333f62-ef03-4504-a394-06021c035500",
   "metadata": {},
   "outputs": [
    {
     "data": {
      "text/plain": [
       "Arts, Crafts & Sewing        2225\n",
       "Beauty                       2202\n",
       "Grocery & Gourmet Food       2201\n",
       "Sports & Outdoors            2201\n",
       "Automotive                   2200\n",
       "Industrial & Scientific      2200\n",
       "Musical Instruments          2200\n",
       "Appliances                   2200\n",
       "Office Products              2200\n",
       "All Beauty                   2200\n",
       "Toys & Games                 2200\n",
       "Electronics                  2200\n",
       "All Electronics              2200\n",
       "Cell Phones & Accessories    2200\n",
       "Patio, Lawn & Garden         2200\n",
       "Baby                         2200\n",
       "Baby Products                2200\n",
       "Health & Personal Care       2200\n",
       "Tools & Home Improvement     2200\n",
       "Clothing, Shoes & Jewelry    2200\n",
       "Pet Supplies                 2200\n",
       "Name: categories, dtype: int64"
      ]
     },
     "execution_count": 315,
     "metadata": {},
     "output_type": "execute_result"
    }
   ],
   "source": [
    "train_csv = pd.read_csv(CSV_URI)\n",
    "train_csv['categories'].value_counts()"
   ]
  },
  {
   "cell_type": "markdown",
   "id": "fe45ca1d-a1ea-495c-8446-bf04eaf8ad07",
   "metadata": {},
   "source": [
    "## Data"
   ]
  },
  {
   "cell_type": "code",
   "execution_count": 3,
   "id": "cd5f40bc-a90d-44c7-9f2b-44efda2fa9a2",
   "metadata": {},
   "outputs": [],
   "source": [
    "BUCKET = 'retail-products-kaggle'\n",
    "ZIP_PATH = 'retail-products-classification.zip' # if the file is gs://$BUCKET/retail-products-classification.zip\n",
    "DEST_FOLDER = 'data-full' # folder to place unzipped files\n",
    "\n",
    "CSV_URI = f'gs://{BUCKET}/{DEST_FOLDER}/train.csv'"
   ]
  },
  {
   "cell_type": "code",
   "execution_count": 4,
   "id": "8914faaa-709e-40d9-a93f-44bc442ba945",
   "metadata": {},
   "outputs": [
    {
     "name": "stdout",
     "output_type": "stream",
     "text": [
      "gs://retail-products-kaggle/retail-products-classification.zip\n",
      "gs://retail-products-kaggle/data-full/\n",
      "gs://retail-products-kaggle/dataset/\n",
      "gs://retail-products-kaggle/indexes/\n",
      "gs://retail-products-kaggle/pipeline_root/\n",
      "gs://retail-products-kaggle/saved-models/\n"
     ]
    }
   ],
   "source": [
    "IMAGE_DIR = f'gs://{BUCKET}'\n",
    "!gsutil ls $IMAGE_DIR"
   ]
  },
  {
   "cell_type": "markdown",
   "id": "dbfec521-f237-47c8-a2f9-9c7f642f0bfa",
   "metadata": {},
   "source": [
    "### product categories"
   ]
  },
  {
   "cell_type": "code",
   "execution_count": 27,
   "id": "04a5fc5b-caca-4286-8994-35b99310c800",
   "metadata": {},
   "outputs": [
    {
     "data": {
      "text/html": [
       "<div>\n",
       "<style scoped>\n",
       "    .dataframe tbody tr th:only-of-type {\n",
       "        vertical-align: middle;\n",
       "    }\n",
       "\n",
       "    .dataframe tbody tr th {\n",
       "        vertical-align: top;\n",
       "    }\n",
       "\n",
       "    .dataframe thead th {\n",
       "        text-align: right;\n",
       "    }\n",
       "</style>\n",
       "<table border=\"1\" class=\"dataframe\">\n",
       "  <thead>\n",
       "    <tr style=\"text-align: right;\">\n",
       "      <th></th>\n",
       "      <th>ImgId</th>\n",
       "      <th>title</th>\n",
       "      <th>description</th>\n",
       "      <th>categories</th>\n",
       "    </tr>\n",
       "  </thead>\n",
       "  <tbody>\n",
       "    <tr>\n",
       "      <th>0</th>\n",
       "      <td>B000HYL1V6</td>\n",
       "      <td>TUNGSTEN SOLDER PICK WITH HANDLE</td>\n",
       "      <td>Solder Pick for picking up molten solder when ...</td>\n",
       "      <td>Arts, Crafts &amp; Sewing</td>\n",
       "    </tr>\n",
       "  </tbody>\n",
       "</table>\n",
       "</div>"
      ],
      "text/plain": [
       "        ImgId                             title  \\\n",
       "0  B000HYL1V6  TUNGSTEN SOLDER PICK WITH HANDLE   \n",
       "\n",
       "                                         description             categories  \n",
       "0  Solder Pick for picking up molten solder when ...  Arts, Crafts & Sewing  "
      ]
     },
     "execution_count": 27,
     "metadata": {},
     "output_type": "execute_result"
    }
   ],
   "source": [
    "import pandas as pd\n",
    "\n",
    "train_csv = pd.read_csv(CSV_URI)\n",
    "train_csv.head(1)"
   ]
  },
  {
   "cell_type": "code",
   "execution_count": 7,
   "id": "d3042461-488c-4f83-84dd-a5d841b915e2",
   "metadata": {},
   "outputs": [
    {
     "data": {
      "text/plain": [
       "'Toys & Games'"
      ]
     },
     "execution_count": 7,
     "metadata": {},
     "output_type": "execute_result"
    }
   ],
   "source": [
    "#### Test \n",
    "\n",
    "IMAGE_ID = '097585562X'\n",
    "\n",
    "cat = train_csv.loc[train_csv['ImgId'] == IMAGE_ID, 'categories'].item()\n",
    "cat"
   ]
  },
  {
   "cell_type": "markdown",
   "id": "58dd20b6-889c-4017-aa10-f682628fcb32",
   "metadata": {},
   "source": [
    "## Create embeddings dataset"
   ]
  },
  {
   "cell_type": "code",
   "execution_count": 39,
   "id": "ea190ef7-5ace-4a15-aaae-89abe54c9097",
   "metadata": {},
   "outputs": [
    {
     "data": {
      "text/plain": [
       "42000"
      ]
     },
     "execution_count": 39,
     "metadata": {},
     "output_type": "execute_result"
    }
   ],
   "source": [
    "IMG_PATH = f'gs://{BUCKET}/{DEST_FOLDER}/train/train'\n",
    "\n",
    "LIST_DIR = tf.io.gfile.listdir(IMG_PATH)\n",
    "len(LIST_DIR)"
   ]
  },
  {
   "cell_type": "code",
   "execution_count": 235,
   "id": "6b22b72a-b628-4fcd-a03f-30dc755128e7",
   "metadata": {},
   "outputs": [],
   "source": [
    "import os.path\n",
    "import time\n",
    "\n",
    "def create_embeddings_dataset(embedder, img_path, num_test_samples):\n",
    "    \n",
    "    # dataset_filenames = []\n",
    "    dataset_embeddings = []\n",
    "    ids_list = []\n",
    "    id_cat_list = []\n",
    "    \n",
    "    start = time.time()\n",
    "    \n",
    "    list_dir = tf.io.gfile.listdir(img_path)\n",
    "    for file in list_dir[:num_test_samples]:\n",
    "        img_tensor = read_and_decode(img_path + \"/\" + file, [IMG_WIDTH, IMG_HEIGHT])\n",
    "        embeddings = embedder(img_tensor)\n",
    "        \n",
    "        IMAGE_ID = file.split(\".\")[0]\n",
    "        CAT = train_csv.loc[train_csv['ImgId'] == IMAGE_ID, 'categories'].item()\n",
    "        \n",
    "        # dataset_filenames.append(file)\n",
    "        dataset_embeddings.extend(embeddings)\n",
    "        ids_list.append(IMAGE_ID)\n",
    "        id_cat_list.append(CAT)\n",
    "  \n",
    "    dataset_embeddings = tf.convert_to_tensor(dataset_embeddings)\n",
    "    \n",
    "    end = time.time()\n",
    "    elapsed_time = round((end - start), 2)\n",
    "    print(f'Elapsed time writting embeddings: {elapsed_time} seconds\\n')\n",
    "  \n",
    "    # return dataset_filenames, dataset_embeddings, ids_list, id_cat_list\n",
    "    return dataset_embeddings, ids_list, id_cat_list"
   ]
  },
  {
   "cell_type": "code",
   "execution_count": 191,
   "id": "53765686-66e9-45ed-ad8e-5929cbbebc43",
   "metadata": {
    "tags": []
   },
   "outputs": [
    {
     "name": "stdout",
     "output_type": "stream",
     "text": [
      "Elapsed time writting embeddings: 46.89 seconds\n",
      "\n",
      "Shape of embeddings dataset: (200, 1280)\n",
      "\n",
      "dataset_ids: ['B00AATJT9Y', 'B00AATKXGM', 'B00ABKJ16S']\n",
      "\n",
      "dataset_id_cats: ['All Beauty', 'All Beauty', 'All Beauty']\n",
      "\n"
     ]
    }
   ],
   "source": [
    "IMG_PATH = f'gs://{BUCKET}/{DEST_FOLDER}/train/train'\n",
    "\n",
    "# dataset_filenames, dataset_embeddings, dataset_ids, dataset_id_cats = create_embeddings_dataset(\n",
    "dataset_embeddings, dataset_ids, dataset_id_cats = create_embeddings_dataset(\n",
    "    lambda x: model.predict(x),\n",
    "    IMG_PATH,\n",
    "    200\n",
    ")\n",
    "\n",
    "print(f\"Shape of embeddings dataset: {dataset_embeddings.shape}\\n\") # should be (NUM_IMAGES, 1280)\n",
    "\n",
    "# print(f\"dataset_filenames: {dataset_filenames[:3]}\\n\")\n",
    "# print(f\"dataset_embeddings: {dataset_embeddings[:3]}\")\n",
    "print(f\"dataset_ids: {dataset_ids[:3]}\\n\")\n",
    "print(f\"dataset_id_cats: {dataset_id_cats[:3]}\\n\")"
   ]
  },
  {
   "cell_type": "markdown",
   "id": "3b4c778f-50da-4674-a831-94e202814759",
   "metadata": {},
   "source": [
    "#### test categories"
   ]
  },
  {
   "cell_type": "code",
   "execution_count": 58,
   "id": "b5a2354f-683f-4a42-a947-02c6a40a3a15",
   "metadata": {},
   "outputs": [],
   "source": [
    "# IMAGE_ID = 'B00CFCKTFM'\n",
    "\n",
    "# cat = train_csv.loc[train_csv['ImgId'] == IMAGE_ID, 'categories'].item()\n",
    "# cat"
   ]
  },
  {
   "cell_type": "markdown",
   "id": "20cf4109-0ed1-4d9f-9660-b480f48298d3",
   "metadata": {},
   "source": [
    "### clean dataset_ids"
   ]
  },
  {
   "cell_type": "code",
   "execution_count": 115,
   "id": "67d8483e-a35d-4d6d-91aa-13ee0868c020",
   "metadata": {
    "tags": []
   },
   "outputs": [],
   "source": [
    "# dataset_ids[-10:]"
   ]
  },
  {
   "cell_type": "code",
   "execution_count": 192,
   "id": "f1403bcb-c3b1-4b89-ace8-41d6220966fa",
   "metadata": {},
   "outputs": [
    {
     "name": "stdout",
     "output_type": "stream",
     "text": [
      "Length of dataset_ids: 200\n",
      "Length of single vector: 10\n"
     ]
    },
    {
     "data": {
      "text/plain": [
       "'B00AATJT9Y'"
      ]
     },
     "execution_count": 192,
     "metadata": {},
     "output_type": "execute_result"
    }
   ],
   "source": [
    "print(f\"Length of dataset_ids: {len(dataset_ids)}\")\n",
    "print(f\"Length of single vector: {len(dataset_ids[0])}\")\n",
    "dataset_ids[0]"
   ]
  },
  {
   "cell_type": "code",
   "execution_count": 112,
   "id": "515aa6c5-64f3-4326-8640-af846f22b364",
   "metadata": {},
   "outputs": [
    {
     "name": "stdout",
     "output_type": "stream",
     "text": [
      "Length of cleaned_ids: 50\n",
      "Length of single vector: 10\n"
     ]
    },
    {
     "data": {
      "text/plain": [
       "'B00C19IQ40'"
      ]
     },
     "execution_count": 112,
     "metadata": {},
     "output_type": "execute_result"
    }
   ],
   "source": [
    "# cleaned_ids = [x for x in dataset_ids] #clean up the output\n",
    "\n",
    "# print(f\"Length of cleaned_ids: {len(cleaned_ids)}\")\n",
    "# print(f\"Length of single vector: {len(cleaned_ids[0])}\")\n",
    "# cleaned_ids[0]"
   ]
  },
  {
   "cell_type": "code",
   "execution_count": 114,
   "id": "fab14c17-a76f-4425-a386-a53be76b1af2",
   "metadata": {},
   "outputs": [],
   "source": [
    "# cleaned_ids[-10:]"
   ]
  },
  {
   "cell_type": "markdown",
   "id": "8d7ec57b-a386-4aa9-b4e4-a178cef256d6",
   "metadata": {},
   "source": [
    "### clean dataset_id_cats"
   ]
  },
  {
   "cell_type": "code",
   "execution_count": 65,
   "id": "0fdf79e9-c176-417d-ba1b-b079a0a9344f",
   "metadata": {
    "tags": []
   },
   "outputs": [
    {
     "data": {
      "text/plain": [
       "'All Beauty'"
      ]
     },
     "execution_count": 65,
     "metadata": {},
     "output_type": "execute_result"
    }
   ],
   "source": [
    "# dataset_id_cats[0]"
   ]
  },
  {
   "cell_type": "code",
   "execution_count": 193,
   "id": "34087122-9287-4f9d-a9e9-fad6c57fa6ab",
   "metadata": {},
   "outputs": [
    {
     "name": "stdout",
     "output_type": "stream",
     "text": [
      "Length of dataset_id_cats: 200\n",
      "Length of single vector: 10\n"
     ]
    },
    {
     "data": {
      "text/plain": [
       "'All Beauty'"
      ]
     },
     "execution_count": 193,
     "metadata": {},
     "output_type": "execute_result"
    }
   ],
   "source": [
    "print(f\"Length of dataset_id_cats: {len(dataset_id_cats)}\")\n",
    "print(f\"Length of single vector: {len(dataset_id_cats[0])}\")\n",
    "dataset_id_cats[0]"
   ]
  },
  {
   "cell_type": "code",
   "execution_count": 118,
   "id": "e84df609-3b1f-4093-b4d0-0c70eadc49c2",
   "metadata": {},
   "outputs": [
    {
     "name": "stdout",
     "output_type": "stream",
     "text": [
      "Length of cleaned_id_cats: 50\n",
      "Length of single vector: 10\n"
     ]
    },
    {
     "data": {
      "text/plain": [
       "'All Beauty'"
      ]
     },
     "execution_count": 118,
     "metadata": {},
     "output_type": "execute_result"
    }
   ],
   "source": [
    "# cleaned_id_cats = [x for x in dataset_id_cats] #clean up the output\n",
    "\n",
    "# print(f\"Length of cleaned_id_cats: {len(cleaned_id_cats)}\")\n",
    "# print(f\"Length of single vector: {len(cleaned_id_cats[0])}\")\n",
    "# cleaned_id_cats[0]"
   ]
  },
  {
   "cell_type": "markdown",
   "id": "45267677-0071-42db-99ad-f3fd87a81617",
   "metadata": {},
   "source": [
    "### clean embedding output"
   ]
  },
  {
   "cell_type": "code",
   "execution_count": 194,
   "id": "a55064e0-79cd-48ae-a9a2-24d750d246fb",
   "metadata": {},
   "outputs": [
    {
     "data": {
      "text/plain": [
       "<tf.Tensor: shape=(200, 1280), dtype=float32, numpy=\n",
       "array([[8.2453972e-01, 0.0000000e+00, 0.0000000e+00, ..., 0.0000000e+00,\n",
       "        4.4985004e-02, 0.0000000e+00],\n",
       "       [0.0000000e+00, 5.1301839e-03, 2.8957572e-02, ..., 5.8317417e-01,\n",
       "        2.0297645e-02, 0.0000000e+00],\n",
       "       [1.2512228e+00, 0.0000000e+00, 1.4427749e-02, ..., 0.0000000e+00,\n",
       "        1.2256460e+00, 9.1779965e-01],\n",
       "       ...,\n",
       "       [6.3323975e-04, 2.4316449e-01, 1.2177556e+00, ..., 1.0945172e-01,\n",
       "        0.0000000e+00, 4.5936545e-03],\n",
       "       [2.7857235e-01, 0.0000000e+00, 3.7195131e-01, ..., 8.8811209e-03,\n",
       "        0.0000000e+00, 0.0000000e+00],\n",
       "       [0.0000000e+00, 3.9684296e-02, 5.6512773e-01, ..., 2.7953389e-01,\n",
       "        0.0000000e+00, 0.0000000e+00]], dtype=float32)>"
      ]
     },
     "execution_count": 194,
     "metadata": {},
     "output_type": "execute_result"
    }
   ],
   "source": [
    "dataset_embeddings"
   ]
  },
  {
   "cell_type": "code",
   "execution_count": 195,
   "id": "37ac172e-9da9-48f3-8579-310aa9017e7e",
   "metadata": {},
   "outputs": [
    {
     "name": "stdout",
     "output_type": "stream",
     "text": [
      "Length of embs: 200\n",
      "Length of single vector: 1280\n"
     ]
    },
    {
     "data": {
      "text/plain": [
       "<tf.Tensor: shape=(1280,), dtype=float32, numpy=\n",
       "array([0.8245397, 0.       , 0.       , ..., 0.       , 0.044985 ,\n",
       "       0.       ], dtype=float32)>"
      ]
     },
     "execution_count": 195,
     "metadata": {},
     "output_type": "execute_result"
    }
   ],
   "source": [
    "print(f\"Length of embs: {len(dataset_embeddings)}\")\n",
    "print(f\"Length of single vector: {len(dataset_embeddings[0])}\")\n",
    "dataset_embeddings[0]"
   ]
  },
  {
   "cell_type": "code",
   "execution_count": 196,
   "id": "252e36cc-6b0f-4068-a06c-fc804b514c10",
   "metadata": {},
   "outputs": [
    {
     "name": "stdout",
     "output_type": "stream",
     "text": [
      "Length of cleaned_embs: 200\n",
      "Length of single vector: 1280\n"
     ]
    },
    {
     "data": {
      "text/plain": [
       "array([0.8245397, 0.       , 0.       , ..., 0.       , 0.044985 ,\n",
       "       0.       ], dtype=float32)"
      ]
     },
     "execution_count": 196,
     "metadata": {},
     "output_type": "execute_result"
    }
   ],
   "source": [
    "cleaned_embs = [x.numpy() for x in dataset_embeddings] #clean up the output\n",
    "\n",
    "print(f\"Length of cleaned_embs: {len(cleaned_embs)}\")\n",
    "print(f\"Length of single vector: {len(cleaned_embs[0])}\")\n",
    "cleaned_embs[0]"
   ]
  },
  {
   "cell_type": "code",
   "execution_count": 91,
   "id": "ad1f48d7-34c4-4feb-929b-aa2fc2776504",
   "metadata": {},
   "outputs": [
    {
     "name": "stdout",
     "output_type": "stream",
     "text": [
      "query_embeddings shape: (50, 1280)\n"
     ]
    },
    {
     "data": {
      "text/plain": [
       "array([0.15452695, 0.38155636, 0.4874365 , ..., 0.00248238, 0.        ,\n",
       "       0.00475382], dtype=float32)"
      ]
     },
     "execution_count": 91,
     "metadata": {},
     "output_type": "execute_result"
    }
   ],
   "source": [
    "# vector_list = []\n",
    "# for q_vector in dataset_embeddings:\n",
    "#     vector_list.append(q_vector.numpy())\n",
    "    \n",
    "# print(f\"query_embeddings shape: {dataset_embeddings.shape}\")\n",
    "\n",
    "# vector_list[0]"
   ]
  },
  {
   "cell_type": "markdown",
   "id": "0234ebcf-6bf7-4731-98d8-07bcb3e627df",
   "metadata": {},
   "source": [
    "## Write json index"
   ]
  },
  {
   "cell_type": "code",
   "execution_count": 212,
   "id": "1f870a98-a725-4cde-a1b0-fd208f47d412",
   "metadata": {},
   "outputs": [],
   "source": [
    "VERSION='v2'\n",
    "\n",
    "cleaned_embs = [x.numpy() for x in dataset_embeddings] #clean up the output\n",
    "cleaned_id_cats = [x for x in dataset_id_cats] #clean up the output\n",
    "cleaned_ids = [x for x in dataset_ids] #clean up the output"
   ]
  },
  {
   "cell_type": "markdown",
   "id": "4a947fef-b0c7-462a-8042-c1255328d3ab",
   "metadata": {},
   "source": [
    "* `f.write('\"crowding_tag\":' + ('\"a\"' if i % 2 == 0 else '\"b\"') + \"}\")`"
   ]
  },
  {
   "cell_type": "code",
   "execution_count": 201,
   "id": "7a79a049-f25f-4cdf-abf4-05773769e9ef",
   "metadata": {},
   "outputs": [],
   "source": [
    "with open(f\"test.json\", \"w\") as f:\n",
    "    counter = 0 \n",
    "    for img_id, vector, img_cat in zip(cleaned_ids, cleaned_embs, cleaned_id_cats):\n",
    "        f.write('{\"id\":\"' + str(img_id) + '\",')\n",
    "        f.write('\"embedding\":[' + \",\".join(str(x).strip() for x in list(vector)) + '],')\n",
    "        f.write('\"restricts\":[{\"namespace\":\"category\",\"allow\":[\"' + str(img_cat) + '\"]},') #,\n",
    "        f.write('{\"namespace\":\"tag_1\",\"allow\":['+ ('\"even\"' if counter % 2 == 0 else '\"odd\"') + ']}]}\\n')\n",
    "        counter+=1\n",
    "    f.close()"
   ]
  },
  {
   "cell_type": "code",
   "execution_count": 202,
   "id": "1074c2d5-567b-4a8b-b294-f58fee36522a",
   "metadata": {},
   "outputs": [
    {
     "name": "stdout",
     "output_type": "stream",
     "text": [
      "200 test.json\n"
     ]
    }
   ],
   "source": [
    "!wc -l test.json"
   ]
  },
  {
   "cell_type": "code",
   "execution_count": 204,
   "id": "d8d5229e-1e0d-408a-8698-fe44403a007e",
   "metadata": {
    "tags": []
   },
   "outputs": [],
   "source": [
    "# !head -2 test.json"
   ]
  },
  {
   "cell_type": "code",
   "execution_count": 213,
   "id": "b8843867-3355-4f45-8dc3-d55b77c8d8c2",
   "metadata": {},
   "outputs": [
    {
     "name": "stdout",
     "output_type": "stream",
     "text": [
      "gs://retail-products-kaggle/indexes/v2/200_emb_test_filter.json\n"
     ]
    }
   ],
   "source": [
    "\n",
    "FILTER_INDEX_DIR = f'gs://{BUCKET}/indexes/{VERSION}'\n",
    "\n",
    "# # gcs_dir should only have index file\n",
    "# ! gsutil rm -rf {FILTER_INDEX_DIR}/*\n",
    "\n",
    "! gsutil ls {FILTER_INDEX_DIR}"
   ]
  },
  {
   "cell_type": "code",
   "execution_count": 207,
   "id": "7d2cbc31-8107-4fb3-9b50-4ab3689ddefc",
   "metadata": {},
   "outputs": [
    {
     "name": "stdout",
     "output_type": "stream",
     "text": [
      "Copying file://test.json [Content-Type=application/json]...\n",
      "/ [1 files][  2.1 MiB/  2.1 MiB]                                                \n",
      "Operation completed over 1 objects/2.1 MiB.                                      \n"
     ]
    }
   ],
   "source": [
    "INDEX_JSON_FILE = '200_emb_test_filter.json'\n",
    "\n",
    "INDEX_GCS_URI = f'{FILTER_INDEX_DIR}/{INDEX_JSON_FILE}'\n",
    "\n",
    "!gsutil cp test.json $INDEX_GCS_URI"
   ]
  },
  {
   "cell_type": "markdown",
   "id": "a60eef7a-5975-4440-a447-3a051d718473",
   "metadata": {},
   "source": [
    "## Create ME Indexes"
   ]
  },
  {
   "cell_type": "markdown",
   "id": "32837288-315f-4038-9f12-e00eeca1b5b6",
   "metadata": {},
   "source": [
    "### tree-ah index"
   ]
  },
  {
   "cell_type": "code",
   "execution_count": 223,
   "id": "34648711-e544-47cb-b576-2242c2f53ae6",
   "metadata": {},
   "outputs": [
    {
     "name": "stdout",
     "output_type": "stream",
     "text": [
      "DISPLAY_NAME_ann: 200_1280_tree_ah_index\n"
     ]
    },
    {
     "data": {
      "text/plain": [
       "{'vector_cnt': '200',\n",
       " 'dims': '1280',\n",
       " 'neighbs': '100',\n",
       " 'leaf_node_cnt': '500',\n",
       " 'leaf_node_serch': '7'}"
      ]
     },
     "execution_count": 223,
     "metadata": {},
     "output_type": "execute_result"
    }
   ],
   "source": [
    "NUM_VECTORS = 200\n",
    "DIMENSIONS = 1280\n",
    "APPROX_NEIGHBS = 100\n",
    "\n",
    "DISTANCE_MEASURE_TYPE=\"DOT_PRODUCT_DISTANCE\"\n",
    "LEAF_NODE_EMB_COUNT=500\n",
    "LEAF_NODE_SEARCH_PERCENT=7\n",
    "\n",
    "ANN_DESCRIPTION=f\"ANN index to test filtering on Kaggle Retail Dataset; visual search demo\"\n",
    "ANN_LABELS={\n",
    "    \"vector_cnt\": str(NUM_VECTORS),\n",
    "    \"dims\": str(DIMENSIONS),\n",
    "    \"neighbs\": str(APPROX_NEIGHBS),\n",
    "    \"leaf_node_cnt\": str(LEAF_NODE_EMB_COUNT),\n",
    "    \"leaf_node_serch\": str(LEAF_NODE_SEARCH_PERCENT),\n",
    "}\n",
    "\n",
    "DISPLAY_NAME_ann = f\"{NUM_VECTORS}_{DIMENSIONS}_tree_ah_index\"\n",
    "\n",
    "print(f\"DISPLAY_NAME_ann: {DISPLAY_NAME_ann}\")\n",
    "# pprint(f\"ANN_LABELS: {ANN_LABELS}\")\n",
    "ANN_LABELS"
   ]
  },
  {
   "cell_type": "code",
   "execution_count": 225,
   "id": "ac8bb40b-e839-475d-8b2d-2b21ec11300e",
   "metadata": {},
   "outputs": [
    {
     "data": {
      "text/plain": [
       "'gs://retail-products-kaggle/indexes/v2'"
      ]
     },
     "execution_count": 225,
     "metadata": {},
     "output_type": "execute_result"
    }
   ],
   "source": [
    "FILTER_INDEX_DIR"
   ]
  },
  {
   "cell_type": "code",
   "execution_count": 226,
   "id": "927a13d5-fb24-41bb-8010-b563dceb8550",
   "metadata": {},
   "outputs": [
    {
     "name": "stdout",
     "output_type": "stream",
     "text": [
      "Creating MatchingEngineIndex\n"
     ]
    },
    {
     "name": "stderr",
     "output_type": "stream",
     "text": [
      "INFO:google.cloud.aiplatform.matching_engine.matching_engine_index:Creating MatchingEngineIndex\n"
     ]
    },
    {
     "name": "stdout",
     "output_type": "stream",
     "text": [
      "Create MatchingEngineIndex backing LRO: projects/934903580331/locations/us-central1/indexes/8904751159311335424/operations/6696370303892717568\n"
     ]
    },
    {
     "name": "stderr",
     "output_type": "stream",
     "text": [
      "INFO:google.cloud.aiplatform.matching_engine.matching_engine_index:Create MatchingEngineIndex backing LRO: projects/934903580331/locations/us-central1/indexes/8904751159311335424/operations/6696370303892717568\n"
     ]
    },
    {
     "name": "stdout",
     "output_type": "stream",
     "text": [
      "MatchingEngineIndex created. Resource name: projects/934903580331/locations/us-central1/indexes/8904751159311335424\n"
     ]
    },
    {
     "name": "stderr",
     "output_type": "stream",
     "text": [
      "INFO:google.cloud.aiplatform.matching_engine.matching_engine_index:MatchingEngineIndex created. Resource name: projects/934903580331/locations/us-central1/indexes/8904751159311335424\n"
     ]
    },
    {
     "name": "stdout",
     "output_type": "stream",
     "text": [
      "To use this MatchingEngineIndex in another session:\n"
     ]
    },
    {
     "name": "stderr",
     "output_type": "stream",
     "text": [
      "INFO:google.cloud.aiplatform.matching_engine.matching_engine_index:To use this MatchingEngineIndex in another session:\n"
     ]
    },
    {
     "name": "stdout",
     "output_type": "stream",
     "text": [
      "index = aiplatform.MatchingEngineIndex('projects/934903580331/locations/us-central1/indexes/8904751159311335424')\n"
     ]
    },
    {
     "name": "stderr",
     "output_type": "stream",
     "text": [
      "INFO:google.cloud.aiplatform.matching_engine.matching_engine_index:index = aiplatform.MatchingEngineIndex('projects/934903580331/locations/us-central1/indexes/8904751159311335424')\n"
     ]
    },
    {
     "name": "stdout",
     "output_type": "stream",
     "text": [
      "Elapsed time creating index: 3367.57 seconds\n",
      "\n",
      "ANN_INDEX_RESOURCE_NAME: projects/934903580331/locations/us-central1/indexes/8904751159311335424\n"
     ]
    }
   ],
   "source": [
    "start = time.time()\n",
    "\n",
    "tree_ah_index = vertex_ai.MatchingEngineIndex.create_tree_ah_index(\n",
    "    display_name=DISPLAY_NAME_ann,\n",
    "    contents_delta_uri=f'{FILTER_INDEX_DIR}/',\n",
    "    dimensions=DIMENSIONS,\n",
    "    approximate_neighbors_count=APPROX_NEIGHBS,\n",
    "    distance_measure_type=DISTANCE_MEASURE_TYPE,\n",
    "    leaf_node_embedding_count=LEAF_NODE_EMB_COUNT,\n",
    "    leaf_nodes_to_search_percent=LEAF_NODE_SEARCH_PERCENT,\n",
    "    description=ANN_DESCRIPTION,\n",
    "    labels=ANN_LABELS,\n",
    "    sync=True,\n",
    ")\n",
    "\n",
    "end = time.time()\n",
    "elapsed_time = round((end - start), 2)\n",
    "print(f'Elapsed time creating index: {elapsed_time} seconds\\n')\n",
    "\n",
    "ANN_INDEX_RESOURCE_NAME = tree_ah_index.resource_name\n",
    "print(f'ANN_INDEX_RESOURCE_NAME: {ANN_INDEX_RESOURCE_NAME}')"
   ]
  },
  {
   "cell_type": "code",
   "execution_count": 228,
   "id": "9e13b55b-5edf-4262-81a7-a4c357d8e48c",
   "metadata": {},
   "outputs": [
    {
     "data": {
      "text/plain": [
       "<google.cloud.aiplatform.matching_engine.matching_engine_index.MatchingEngineIndex object at 0x7f5e78408d90> \n",
       "resource name: projects/934903580331/locations/us-central1/indexes/8904751159311335424"
      ]
     },
     "execution_count": 228,
     "metadata": {},
     "output_type": "execute_result"
    }
   ],
   "source": [
    "tree_ah_index"
   ]
  },
  {
   "cell_type": "markdown",
   "id": "f3aff248-6ed2-4f5e-8404-023f3dbcbb8b",
   "metadata": {},
   "source": [
    "Using the resource name, you can retrieve an existing MatchingEngineIndex."
   ]
  },
  {
   "cell_type": "code",
   "execution_count": null,
   "id": "f833ad50-6cb4-4d43-b5c0-51eac77c22b0",
   "metadata": {},
   "outputs": [],
   "source": [
    "# loaded_tree_ah_index = aiplatform.MatchingEngineIndex(index_name=ANN_INDEX_RESOURCE_NAME)\n",
    "# loaded_tree_ah_index"
   ]
  },
  {
   "cell_type": "markdown",
   "id": "44e0a56b-42d1-4c0f-a40c-f7eb7b13ec83",
   "metadata": {
    "jp-MarkdownHeadingCollapsed": true,
    "tags": []
   },
   "source": [
    "### brute-force index"
   ]
  },
  {
   "cell_type": "code",
   "execution_count": null,
   "id": "db56313f-48d4-4477-975b-b457908a8740",
   "metadata": {},
   "outputs": [],
   "source": [
    "# BF_DESCRIPTION=f\"Brute Force index to test filtering on Kaggle Retail Dataset; visual search demo\"\n",
    "\n",
    "# BF_LABELS={\n",
    "#     \"vector_cnt\": str(NUM_VECTORS),\n",
    "#     \"dims\": str(DIMENSIONS),\n",
    "#     \"neighbs\": str(APPROX_NEIGHBS),\n",
    "# }\n",
    "\n",
    "# BF_DISPLAY_NAME = f\"{NUM_VECTORS}_{DIMENSIONS}_brute_index\"\n",
    "\n",
    "# print(f\"DISPLAY_NAME_brute_force: {BF_DISPLAY_NAME}\")\n",
    "# BF_LABELS"
   ]
  },
  {
   "cell_type": "code",
   "execution_count": null,
   "id": "a5867620-1af0-4388-b373-1db26d75f859",
   "metadata": {},
   "outputs": [],
   "source": [
    "# start = time.time()\n",
    "\n",
    "# brute_force_index = vertex_ai.MatchingEngineIndex.create_brute_force_index(\n",
    "#     display_name=BF_DISPLAY_NAME,\n",
    "#     contents_delta_uri=FILTER_INDEX_DIR,\n",
    "#     dimensions=DIMENSIONS,\n",
    "#     distance_measure_type=DISTANCE_MEASURE_TYPE,\n",
    "#     description=BF_DESCRIPTION,\n",
    "#     labels=BF_LABELS,\n",
    "# )\n",
    "\n",
    "# end = time.time()\n",
    "# elapsed_time = round((end - start), 2)\n",
    "# print(f'Elapsed time creating index: {elapsed_time} seconds\\n')\n",
    "\n",
    "# BF_INDEX_RESOURCE_NAME = brute_force_index.resource_name\n",
    "# print(f'BF_INDEX_RESOURCE_NAME: {BF_INDEX_RESOURCE_NAME}')"
   ]
  },
  {
   "cell_type": "code",
   "execution_count": null,
   "id": "51a02dbd-d64f-4bd7-92bb-825715cff251",
   "metadata": {},
   "outputs": [],
   "source": [
    "# loaded_bf_index = aiplatform.MatchingEngineIndex(index_name=BF_INDEX_RESOURCE_NAME)\n",
    "# loaded_bf_index"
   ]
  },
  {
   "cell_type": "markdown",
   "id": "f28d97dc-de60-43a1-b436-478b257281e0",
   "metadata": {},
   "source": [
    "## Create IndexEndpoint with VPC"
   ]
  },
  {
   "cell_type": "code",
   "execution_count": 229,
   "id": "8aeba45d-9a8e-4b6c-a3f2-0b069475d30f",
   "metadata": {},
   "outputs": [],
   "source": [
    "PROJECT_NUMBER = 934903580331\n",
    "VPC_NETWORK_NAME = 'ucaip-haystack-vpc-network'\n",
    "vpc_network_resource_uri = f'projects/{PROJECT_NUMBER}/global/networks/{VPC_NETWORK_NAME}'"
   ]
  },
  {
   "cell_type": "markdown",
   "id": "5a38d5c7-b9e5-4384-9273-b57639b70d4a",
   "metadata": {},
   "source": [
    "### ANN index endpoint"
   ]
  },
  {
   "cell_type": "code",
   "execution_count": 230,
   "id": "1b347ace-7735-484d-9e1d-28809075bdd3",
   "metadata": {},
   "outputs": [
    {
     "name": "stdout",
     "output_type": "stream",
     "text": [
      "vpc_network_resource_uri: projects/934903580331/global/networks/ucaip-haystack-vpc-network\n",
      "ANN_INDEX_ENDPOINT_DISPLAY_NAME: retail_index_endpoint_v2_ann\n"
     ]
    }
   ],
   "source": [
    "ANN_INDEX_ENDPOINT_DISPLAY_NAME = f'retail_index_endpoint_{VERSION}_ann'\n",
    "ANN_INDEX_ENDPOINT_DESCRIPTION = \"index endpoint for ann index\" \n",
    "\n",
    "print(\"vpc_network_resource_uri:\", vpc_network_resource_uri)\n",
    "print(\"ANN_INDEX_ENDPOINT_DISPLAY_NAME:\", ANN_INDEX_ENDPOINT_DISPLAY_NAME)"
   ]
  },
  {
   "cell_type": "code",
   "execution_count": 233,
   "id": "e2a2f0d4-817f-42d8-b437-9e857e80b9a7",
   "metadata": {},
   "outputs": [
    {
     "name": "stdout",
     "output_type": "stream",
     "text": [
      "Creating MatchingEngineIndexEndpoint\n"
     ]
    },
    {
     "name": "stderr",
     "output_type": "stream",
     "text": [
      "INFO:google.cloud.aiplatform.matching_engine.matching_engine_index_endpoint:Creating MatchingEngineIndexEndpoint\n"
     ]
    },
    {
     "name": "stdout",
     "output_type": "stream",
     "text": [
      "Create MatchingEngineIndexEndpoint backing LRO: projects/934903580331/locations/us-central1/indexEndpoints/6060727994626867200/operations/3579597886775623680\n"
     ]
    },
    {
     "name": "stderr",
     "output_type": "stream",
     "text": [
      "INFO:google.cloud.aiplatform.matching_engine.matching_engine_index_endpoint:Create MatchingEngineIndexEndpoint backing LRO: projects/934903580331/locations/us-central1/indexEndpoints/6060727994626867200/operations/3579597886775623680\n"
     ]
    },
    {
     "name": "stdout",
     "output_type": "stream",
     "text": [
      "MatchingEngineIndexEndpoint created. Resource name: projects/934903580331/locations/us-central1/indexEndpoints/6060727994626867200\n"
     ]
    },
    {
     "name": "stderr",
     "output_type": "stream",
     "text": [
      "INFO:google.cloud.aiplatform.matching_engine.matching_engine_index_endpoint:MatchingEngineIndexEndpoint created. Resource name: projects/934903580331/locations/us-central1/indexEndpoints/6060727994626867200\n"
     ]
    },
    {
     "name": "stdout",
     "output_type": "stream",
     "text": [
      "To use this MatchingEngineIndexEndpoint in another session:\n"
     ]
    },
    {
     "name": "stderr",
     "output_type": "stream",
     "text": [
      "INFO:google.cloud.aiplatform.matching_engine.matching_engine_index_endpoint:To use this MatchingEngineIndexEndpoint in another session:\n"
     ]
    },
    {
     "name": "stdout",
     "output_type": "stream",
     "text": [
      "index_endpoint = aiplatform.MatchingEngineIndexEndpoint('projects/934903580331/locations/us-central1/indexEndpoints/6060727994626867200')\n"
     ]
    },
    {
     "name": "stderr",
     "output_type": "stream",
     "text": [
      "INFO:google.cloud.aiplatform.matching_engine.matching_engine_index_endpoint:index_endpoint = aiplatform.MatchingEngineIndexEndpoint('projects/934903580331/locations/us-central1/indexEndpoints/6060727994626867200')\n"
     ]
    },
    {
     "name": "stdout",
     "output_type": "stream",
     "text": [
      "Elapsed time creating index-endpoint: 2.11 seconds\n",
      "\n",
      "ann_index_endpoint_resource_uri: projects/934903580331/locations/us-central1/indexEndpoints/6060727994626867200\n"
     ]
    }
   ],
   "source": [
    "start = time.time()\n",
    "\n",
    "ann_index_endpoint = vertex_ai.MatchingEngineIndexEndpoint.create(\n",
    "  display_name=f'{ANN_INDEX_ENDPOINT_DISPLAY_NAME}',\n",
    "  description=ANN_INDEX_ENDPOINT_DESCRIPTION,\n",
    "  network=vpc_network_resource_uri,\n",
    ")\n",
    "\n",
    "end = time.time()\n",
    "elapsed_time = round((end - start), 2)\n",
    "print(f'Elapsed time creating index-endpoint: {elapsed_time} seconds\\n')\n",
    "\n",
    "ann_index_endpoint_resource_uri = ann_index_endpoint.resource_name\n",
    "print(\"ann_index_endpoint_resource_uri:\", ann_index_endpoint_resource_uri)"
   ]
  },
  {
   "cell_type": "markdown",
   "id": "512199dd-5c62-43eb-b9b0-91e6a703da4f",
   "metadata": {
    "jp-MarkdownHeadingCollapsed": true,
    "tags": []
   },
   "source": [
    "### BF index endpoint"
   ]
  },
  {
   "cell_type": "code",
   "execution_count": null,
   "id": "011f2935-e0a8-43cb-acde-8d81d8453ec8",
   "metadata": {},
   "outputs": [],
   "source": [
    "# BF_INDEX_ENDPOINT_DISPLAY_NAME = f'retail_index_endpoint_{VERSION}_bf'\n",
    "# BF_INDEX_ENDPOINT_DESCRIPTION = \"index endpoint for brute force index\" \n",
    "\n",
    "# print(\"vpc_network_resource_uri:\", vpc_network_resource_uri)\n",
    "# print(\"BF_INDEX_ENDPOINT_DISPLAY_NAME:\", BF_INDEX_ENDPOINT_DISPLAY_NAME)"
   ]
  },
  {
   "cell_type": "code",
   "execution_count": null,
   "id": "3635d8b2-dd0b-48ac-8d41-a8c5ad8f16aa",
   "metadata": {},
   "outputs": [],
   "source": [
    "# start = time.time()\n",
    "\n",
    "# bf_index_endpoint = aiplatform.MatchingEngineIndexEndpoint.create(\n",
    "#   display_name=f'{BF_INDEX_ENDPOINT_DISPLAY_NAME}',\n",
    "#   description=BF_INDEX_ENDPOINT_DESCRIPTION,\n",
    "#   network=vpc_network_resource_uri,\n",
    "# )\n",
    "\n",
    "# end = time.time()\n",
    "# elapsed_time = round((end - start), 2)\n",
    "# print(f'Elapsed time creating index-endpoint: {elapsed_time} seconds\\n')\n",
    "\n",
    "# bf_index_endpoint_resource_uri = bf_index_endpoint.resource_name\n",
    "# print(\"bf_index_endpoint_resource_uri:\", bf_index_endpoint_resource_uri)"
   ]
  },
  {
   "cell_type": "markdown",
   "id": "86663b48-4d14-4ffd-935b-1099bffc6dad",
   "metadata": {},
   "source": [
    "## Deploy Indexes"
   ]
  },
  {
   "cell_type": "markdown",
   "id": "d5214246-1613-4319-82a4-d35e765d8e09",
   "metadata": {},
   "source": [
    "#### deploy ANN index to endpoint"
   ]
  },
  {
   "cell_type": "code",
   "execution_count": 234,
   "id": "649843fb-b03a-4c03-95fa-77c2742cdf9d",
   "metadata": {},
   "outputs": [
    {
     "name": "stdout",
     "output_type": "stream",
     "text": [
      "Deploying index MatchingEngineIndexEndpoint index_endpoint: projects/934903580331/locations/us-central1/indexEndpoints/6060727994626867200\n"
     ]
    },
    {
     "name": "stderr",
     "output_type": "stream",
     "text": [
      "INFO:google.cloud.aiplatform.matching_engine.matching_engine_index_endpoint:Deploying index MatchingEngineIndexEndpoint index_endpoint: projects/934903580331/locations/us-central1/indexEndpoints/6060727994626867200\n"
     ]
    },
    {
     "name": "stdout",
     "output_type": "stream",
     "text": [
      "Deploy index MatchingEngineIndexEndpoint index_endpoint backing LRO: projects/934903580331/locations/us-central1/indexEndpoints/6060727994626867200/operations/2180104302570242048\n"
     ]
    },
    {
     "name": "stderr",
     "output_type": "stream",
     "text": [
      "INFO:google.cloud.aiplatform.matching_engine.matching_engine_index_endpoint:Deploy index MatchingEngineIndexEndpoint index_endpoint backing LRO: projects/934903580331/locations/us-central1/indexEndpoints/6060727994626867200/operations/2180104302570242048\n"
     ]
    },
    {
     "name": "stdout",
     "output_type": "stream",
     "text": [
      "MatchingEngineIndexEndpoint index_endpoint Deployed index. Resource name: projects/934903580331/locations/us-central1/indexEndpoints/6060727994626867200\n"
     ]
    },
    {
     "name": "stderr",
     "output_type": "stream",
     "text": [
      "INFO:google.cloud.aiplatform.matching_engine.matching_engine_index_endpoint:MatchingEngineIndexEndpoint index_endpoint Deployed index. Resource name: projects/934903580331/locations/us-central1/indexEndpoints/6060727994626867200\n"
     ]
    },
    {
     "name": "stdout",
     "output_type": "stream",
     "text": [
      "Elapsed time deploying ANN index: 265.27 seconds\n",
      "\n"
     ]
    }
   ],
   "source": [
    "DEPLOYED_ANN_INDEX_NAME = f'deployed_ann_{VERSION}'\n",
    "\n",
    "start = time.time()\n",
    "\n",
    "ann_deployed_index_endpoint = ann_index_endpoint.deploy_index(\n",
    "    index=tree_ah_index, \n",
    "    deployed_index_id=f'{DEPLOYED_ANN_INDEX_NAME}'\n",
    ")\n",
    "\n",
    "end = time.time()\n",
    "elapsed_time = round((end - start), 2)\n",
    "print(f'Elapsed time deploying ANN index: {elapsed_time} seconds\\n')"
   ]
  },
  {
   "cell_type": "code",
   "execution_count": 243,
   "id": "e22200d2-1718-4bd4-a21a-d0831450c0e8",
   "metadata": {},
   "outputs": [
    {
     "data": {
      "text/plain": [
       "<google.cloud.aiplatform.matching_engine.matching_engine_index_endpoint.MatchingEngineIndexEndpoint object at 0x7f5e783baf50> \n",
       "resource name: projects/934903580331/locations/us-central1/indexEndpoints/6060727994626867200"
      ]
     },
     "execution_count": 243,
     "metadata": {},
     "output_type": "execute_result"
    }
   ],
   "source": [
    "ann_deployed_index_endpoint"
   ]
  },
  {
   "cell_type": "markdown",
   "id": "e4dce254-b9eb-4735-9151-f41201262c19",
   "metadata": {
    "jp-MarkdownHeadingCollapsed": true,
    "tags": []
   },
   "source": [
    "#### deploy BF index to endpoint"
   ]
  },
  {
   "cell_type": "code",
   "execution_count": null,
   "id": "db27bccf-44e0-43cd-a211-d4ce3feeef16",
   "metadata": {},
   "outputs": [],
   "source": [
    "# DEPLOYED_ANN_INDEX_NAME = f'deployed_bf_{VERSION}'\n",
    "\n",
    "# start = time.time()\n",
    "\n",
    "# bf_deployed_index_endpoint = bf_index_endpoint.deploy_index(\n",
    "#     index=brute_force_index, \n",
    "#     deployed_index_id=f'{DEPLOYED_ANN_INDEX_NAME}'\n",
    "# )\n",
    "\n",
    "# end = time.time()\n",
    "# elapsed_time = round((end - start), 2)\n",
    "# print(f'Elapsed time deploying BF index: {elapsed_time} seconds\\n')"
   ]
  },
  {
   "cell_type": "markdown",
   "id": "8a43cd0f-bd41-4f3e-9c9d-fc222d7f84cb",
   "metadata": {},
   "source": [
    "# Query Indexes"
   ]
  },
  {
   "cell_type": "code",
   "execution_count": 248,
   "id": "356ca501-54f5-4282-b2fd-3aeb0562a16a",
   "metadata": {},
   "outputs": [],
   "source": [
    "from IPython.display import clear_output, Image\n",
    "from IPython.core.display import HTML\n",
    "# from google.cloud import storage"
   ]
  },
  {
   "cell_type": "markdown",
   "id": "6dca77f1-2b8a-4ab0-ac0d-f8306a0d631c",
   "metadata": {},
   "source": [
    "## Convert Test Images to Embedding Vectors"
   ]
  },
  {
   "cell_type": "code",
   "execution_count": null,
   "id": "f1a23b74-b5b9-48a9-bccd-4e436dafe7fb",
   "metadata": {},
   "outputs": [],
   "source": [
    "EVAL_IMG_PATH = f'gs://{BUCKET}/{DEST_FOLDER}/test/test'"
   ]
  },
  {
   "cell_type": "code",
   "execution_count": null,
   "id": "0424c27f-70a9-4f32-8366-0752cfb3ef36",
   "metadata": {},
   "outputs": [],
   "source": [
    "def create_test_queries(embedder, img_path):\n",
    "    \n",
    "    dataset_embeddings = []\n",
    "    ids_list = []\n",
    "    \n",
    "    start = time.time()\n",
    "    \n",
    "    list_dir = tf.io.gfile.listdir(img_path)\n",
    "    for file in list_dir:\n",
    "        img_tensor = read_and_decode(img_path + \"/\" + file, [IMG_WIDTH, IMG_HEIGHT])\n",
    "        embeddings = embedder(img_tensor)\n",
    "        \n",
    "        IMAGE_ID = file.split(\".\")[0]\n",
    "        \n",
    "        dataset_embeddings.extend(embeddings)\n",
    "        ids_list.append(IMAGE_ID)\n",
    "        \n",
    "    dataset_embeddings = tf.convert_to_tensor(dataset_embeddings)\n",
    "    \n",
    "    end = time.time()\n",
    "    elapsed_time = round((end - start), 2)\n",
    "    print(f'Elapsed time writting embeddings: {elapsed_time} seconds\\n')\n",
    "  \n",
    "    # return dataset_filenames, dataset_embeddings, ids_list, id_cat_list\n",
    "    return dataset_embeddings, ids_list"
   ]
  },
  {
   "cell_type": "code",
   "execution_count": null,
   "id": "0fe5a43f-b090-4f26-a638-af281001b9d4",
   "metadata": {},
   "outputs": [],
   "source": [
    "cleaned_embs = [x.numpy() for x in dataset_embeddings]"
   ]
  },
  {
   "cell_type": "markdown",
   "id": "65b23857-75b4-4358-afa6-22398a319fac",
   "metadata": {},
   "source": [
    "## Create Online Queries"
   ]
  },
  {
   "cell_type": "code",
   "execution_count": 239,
   "id": "5b4a22ae-5ebb-4f4b-9250-7da9a768d804",
   "metadata": {},
   "outputs": [],
   "source": [
    "def create_test_queries(embedder, img_path):\n",
    "    \n",
    "    # dataset_filenames = []\n",
    "    dataset_embeddings = []\n",
    "    ids_list = []\n",
    "    id_cat_list = []\n",
    "    \n",
    "    start = time.time()\n",
    "    \n",
    "    list_dir = tf.io.gfile.listdir(img_path)\n",
    "    for file in list_dir:\n",
    "        img_tensor = read_and_decode(img_path + \"/\" + file, [IMG_WIDTH, IMG_HEIGHT])\n",
    "        embeddings = embedder(img_tensor)\n",
    "        \n",
    "        IMAGE_ID = file.split(\".\")[0]\n",
    "        CAT = train_csv.loc[train_csv['ImgId'] == IMAGE_ID, 'categories'].item()\n",
    "        \n",
    "        # dataset_filenames.append(file)\n",
    "        dataset_embeddings.extend(embeddings)\n",
    "        ids_list.append(IMAGE_ID)\n",
    "        id_cat_list.append(CAT)\n",
    "  \n",
    "    dataset_embeddings = tf.convert_to_tensor(dataset_embeddings)\n",
    "    \n",
    "    end = time.time()\n",
    "    elapsed_time = round((end - start), 2)\n",
    "    print(f'Elapsed time writting embeddings: {elapsed_time} seconds\\n')\n",
    "  \n",
    "    # return dataset_filenames, dataset_embeddings, ids_list, id_cat_list\n",
    "    return dataset_embeddings, ids_list, id_cat_list"
   ]
  },
  {
   "cell_type": "code",
   "execution_count": 241,
   "id": "7fb5c910-a098-476c-adbf-60333217f294",
   "metadata": {},
   "outputs": [
    {
     "name": "stdout",
     "output_type": "stream",
     "text": [
      "Elapsed time writting embeddings: 14.89 seconds\n",
      "\n",
      "Shape of embeddings dataset: (50, 1280)\n",
      "\n",
      "dataset_ids: ['1620575515', '1620575728', '1620576279']\n",
      "\n",
      "dataset_id_cats: ['Toys & Games', 'Office Products', 'Office Products']\n",
      "\n"
     ]
    }
   ],
   "source": [
    "IMG_PATH = f'gs://{BUCKET}/{DEST_FOLDER}/test/test'\n",
    "# IMG_PATH = f'gs://{BUCKET}/{DEST_FOLDER}/train/train'\n",
    "\n",
    "test_embeddings, test_ids, test_id_cats = create_test_queries(\n",
    "    lambda x: model.predict(x),\n",
    "    IMG_PATH,\n",
    ")\n",
    "\n",
    "print(f\"Shape of embeddings dataset: {test_embeddings.shape}\\n\")\n",
    "\n",
    "# print(f\"dataset_filenames: {dataset_filenames[:3]}\\n\")\n",
    "# print(f\"dataset_embeddings: {dataset_embeddings[:3]}\")\n",
    "print(f\"dataset_ids: {test_ids[:3]}\\n\")\n",
    "print(f\"dataset_id_cats: {test_id_cats[:3]}\\n\")"
   ]
  },
  {
   "cell_type": "code",
   "execution_count": 242,
   "id": "6f8669a0-5144-413a-9e48-bb771909d8bf",
   "metadata": {},
   "outputs": [],
   "source": [
    "cleaned_test_embs = [x.numpy() for x in test_embeddings] #clean up the output\n",
    "cleaned_test_id_cats = [x for x in test_id_cats] #clean up the output\n",
    "cleaned_test_ids = [x for x in test_ids] #clean up the output"
   ]
  },
  {
   "cell_type": "code",
   "execution_count": 244,
   "id": "c59268da-0cc5-45c0-a652-d32b8f758402",
   "metadata": {},
   "outputs": [
    {
     "data": {
      "text/plain": [
       "array([0.10551908, 1.3513697 , 0.        , ..., 1.9117075 , 0.03385061,\n",
       "       0.        ], dtype=float32)"
      ]
     },
     "execution_count": 244,
     "metadata": {},
     "output_type": "execute_result"
    }
   ],
   "source": [
    "cleaned_test_embs[0]"
   ]
  },
  {
   "cell_type": "markdown",
   "id": "55151cb1-a0c8-4960-bfaf-5d29d3f5f36f",
   "metadata": {},
   "source": [
    "## Test query"
   ]
  },
  {
   "cell_type": "code",
   "execution_count": 286,
   "id": "5c794dfc-822a-40b3-881e-34b56f623cc4",
   "metadata": {},
   "outputs": [],
   "source": [
    "from dataclasses import dataclass, field\n",
    "\n",
    "@dataclass\n",
    "class Namespace:\n",
    "    name: str\n",
    "    allow_tokens: list = field(default_factory=list)\n",
    "    deny_tokens: list = field(default_factory=list)"
   ]
  },
  {
   "cell_type": "code",
   "execution_count": 294,
   "id": "91b04253-1819-4a89-98c1-83ef1fad6419",
   "metadata": {},
   "outputs": [],
   "source": [
    "NUM_NEIGHBS = 5"
   ]
  },
  {
   "cell_type": "code",
   "execution_count": 245,
   "id": "75cb4380-290d-4be7-918d-8d70ad153de4",
   "metadata": {},
   "outputs": [
    {
     "name": "stdout",
     "output_type": "stream",
     "text": [
      "Elapsed time retrieving neighbors: 0.02 seconds\n",
      "\n"
     ]
    },
    {
     "data": {
      "text/plain": [
       "[[MatchNeighbor(id='B00ALQB3KO', distance=462.4610290527344),\n",
       "  MatchNeighbor(id='B00AEM2SS6', distance=452.9703369140625),\n",
       "  MatchNeighbor(id='B00B70U944', distance=448.75360107421875),\n",
       "  MatchNeighbor(id='B00AEM3HEU', distance=447.554443359375),\n",
       "  MatchNeighbor(id='B00CCJDF1S', distance=441.792236328125)]]"
      ]
     },
     "execution_count": 245,
     "metadata": {},
     "output_type": "execute_result"
    }
   ],
   "source": [
    "start = time.time()\n",
    "\n",
    "# Test query\n",
    "response = ann_index_endpoint.match(\n",
    "    deployed_index_id=DEPLOYED_ANN_INDEX_NAME, \n",
    "    queries=cleaned_test_embs[:1], \n",
    "    num_neighbors=NUM_NEIGHBS\n",
    ")\n",
    "\n",
    "end = time.time()\n",
    "elapsed_time = round((end - start), 2)\n",
    "print(f'Elapsed time retrieving neighbors: {elapsed_time} seconds\\n')\n",
    "\n",
    "n_ids_list = []\n",
    "\n",
    "for neighbor in response[0]:\n",
    "    n_ids_list.append(neighbor.id)\n",
    "\n",
    "response"
   ]
  },
  {
   "cell_type": "code",
   "execution_count": 291,
   "id": "5a6b997b-45f7-4179-a10b-c9aa7cf68bc6",
   "metadata": {},
   "outputs": [
    {
     "name": "stdout",
     "output_type": "stream",
     "text": [
      "n_ids_list: ['B00ALQB3KO', 'B00AEM2SS6', 'B00B70U944', 'B00AEM3HEU', 'B00CCJDF1S']\n",
      "categories: ['All Beauty', 'All Beauty', 'All Beauty', 'All Beauty', 'All Beauty']\n"
     ]
    }
   ],
   "source": [
    "categories = []\n",
    "\n",
    "for img_id in n_ids_list:\n",
    "    \n",
    "    cat = train_csv.loc[train_csv['ImgId'] == img_id, 'categories'].item()\n",
    "    categories.append(cat)\n",
    "    \n",
    "print(f\"n_ids_list: {n_ids_list}\")\n",
    "print(f\"categories: {categories}\")"
   ]
  },
  {
   "cell_type": "code",
   "execution_count": 324,
   "id": "25e6a216-bce5-457f-a9ed-9536dc9a8773",
   "metadata": {},
   "outputs": [
    {
     "data": {
      "text/plain": [
       "'deployed_ann_v2'"
      ]
     },
     "execution_count": 324,
     "metadata": {},
     "output_type": "execute_result"
    }
   ],
   "source": [
    "DEPLOYED_ANN_INDEX_NAME"
   ]
  },
  {
   "cell_type": "code",
   "execution_count": 302,
   "id": "a52ec571-963d-4b96-97be-c4952010bdc6",
   "metadata": {},
   "outputs": [
    {
     "data": {
      "text/plain": [
       "[[MatchNeighbor(id='B00ALQB3KO', distance=462.4610290527344),\n",
       "  MatchNeighbor(id='B00AEM2SS6', distance=452.9703369140625),\n",
       "  MatchNeighbor(id='B00B70U944', distance=448.75360107421875),\n",
       "  MatchNeighbor(id='B00AEM3HEU', distance=447.554443359375),\n",
       "  MatchNeighbor(id='B00CCNSJJ2', distance=437.2134704589844)]]"
      ]
     },
     "execution_count": 302,
     "metadata": {},
     "output_type": "execute_result"
    }
   ],
   "source": [
    "response = ann_index_endpoint.match(\n",
    "    deployed_index_id=DEPLOYED_ANN_INDEX_NAME, \n",
    "    queries=cleaned_test_embs[:1], \n",
    "    num_neighbors=NUM_NEIGHBS,\n",
    "    filter=[\n",
    "        Namespace(name=\"category\", allow_tokens=[\"All Beauty\"], deny_tokens=[]), \n",
    "        Namespace(name=\"tag_1\", allow_tokens=[\"even\"], deny_tokens=[])\n",
    "    ]\n",
    ")\n",
    "response"
   ]
  },
  {
   "cell_type": "code",
   "execution_count": 304,
   "id": "a59e642a-cdd5-442f-96fc-c0bd80865e83",
   "metadata": {},
   "outputs": [
    {
     "data": {
      "text/plain": [
       "[[MatchNeighbor(id='B00CCJDF1S', distance=441.792236328125),\n",
       "  MatchNeighbor(id='B00BRW5S7K', distance=436.126220703125),\n",
       "  MatchNeighbor(id='B00AEM347U', distance=432.11181640625),\n",
       "  MatchNeighbor(id='B00CBEMOL6', distance=426.5850830078125),\n",
       "  MatchNeighbor(id='B00CDPX5UC', distance=407.89251708984375)]]"
      ]
     },
     "execution_count": 304,
     "metadata": {},
     "output_type": "execute_result"
    }
   ],
   "source": [
    "response = ann_index_endpoint.match(\n",
    "    deployed_index_id=DEPLOYED_ANN_INDEX_NAME, \n",
    "    queries=cleaned_test_embs[:1], \n",
    "    num_neighbors=NUM_NEIGHBS,\n",
    "    filter=[\n",
    "        Namespace(name=\"category\", allow_tokens=[\"All Beauty\"], deny_tokens=[]), \n",
    "        Namespace(name=\"tag_1\", allow_tokens=[\"odd\"], deny_tokens=[])\n",
    "    ]\n",
    ")\n",
    "response"
   ]
  },
  {
   "cell_type": "code",
   "execution_count": 305,
   "id": "d32edb5b-1f99-4a1c-9e41-fd1f39cf11e9",
   "metadata": {},
   "outputs": [
    {
     "data": {
      "text/plain": [
       "[[]]"
      ]
     },
     "execution_count": 305,
     "metadata": {},
     "output_type": "execute_result"
    }
   ],
   "source": [
    "response = ann_index_endpoint.match(\n",
    "    deployed_index_id=DEPLOYED_ANN_INDEX_NAME, \n",
    "    queries=cleaned_test_embs[:1], \n",
    "    num_neighbors=NUM_NEIGHBS,\n",
    "    filter=[\n",
    "        Namespace(name=\"category\", allow_tokens=[], deny_tokens=[\"All Beauty\"]), \n",
    "        Namespace(name=\"tag_1\", allow_tokens=[\"even\"], deny_tokens=[])\n",
    "    ]\n",
    ")\n",
    "response"
   ]
  },
  {
   "cell_type": "code",
   "execution_count": 306,
   "id": "4adc9ecc-44f2-4924-b1c6-1aceefc73ef8",
   "metadata": {},
   "outputs": [
    {
     "data": {
      "text/plain": [
       "[[MatchNeighbor(id='B00ALQB3KO', distance=462.4610290527344),\n",
       "  MatchNeighbor(id='B00AEM2SS6', distance=452.9703369140625),\n",
       "  MatchNeighbor(id='B00B70U944', distance=448.75360107421875),\n",
       "  MatchNeighbor(id='B00AEM3HEU', distance=447.554443359375),\n",
       "  MatchNeighbor(id='B00CCJDF1S', distance=441.792236328125),\n",
       "  MatchNeighbor(id='B00CCNSJJ2', distance=437.2134704589844),\n",
       "  MatchNeighbor(id='B00BRW5S7K', distance=436.126220703125),\n",
       "  MatchNeighbor(id='B00AEM347U', distance=432.11181640625),\n",
       "  MatchNeighbor(id='B00B4X3U2W', distance=429.53167724609375),\n",
       "  MatchNeighbor(id='B00CBEMOL6', distance=426.5850830078125)]]"
      ]
     },
     "execution_count": 306,
     "metadata": {},
     "output_type": "execute_result"
    }
   ],
   "source": [
    "response = ann_index_endpoint.match(\n",
    "    deployed_index_id=DEPLOYED_ANN_INDEX_NAME, \n",
    "    queries=cleaned_test_embs[:1], \n",
    "    num_neighbors=10, # NUM_NEIGHBS,\n",
    "    filter=[\n",
    "        Namespace(name=\"category\", allow_tokens=[\"All Beauty\"], deny_tokens=[]), \n",
    "        Namespace(name=\"tag_1\", allow_tokens=[\"even\", \"odd\"], deny_tokens=[])\n",
    "    ]\n",
    ")\n",
    "response"
   ]
  },
  {
   "cell_type": "code",
   "execution_count": 307,
   "id": "30718038-d64b-46c8-b22d-c448ec163f14",
   "metadata": {},
   "outputs": [
    {
     "name": "stdout",
     "output_type": "stream",
     "text": [
      "n_ids_list: ['B00ALQB3KO', 'B00AEM2SS6', 'B00B70U944', 'B00AEM3HEU', 'B00CCJDF1S', 'B00CCNSJJ2', 'B00BRW5S7K', 'B00AEM347U', 'B00B4X3U2W', 'B00CBEMOL6']\n",
      "categories: ['All Beauty', 'All Beauty', 'All Beauty', 'All Beauty', 'All Beauty', 'All Beauty', 'All Beauty', 'All Beauty', 'All Beauty', 'All Beauty']\n"
     ]
    }
   ],
   "source": [
    "categories = []\n",
    "n_ids_list = []\n",
    "\n",
    "for neighbor in response[0]:\n",
    "    n_ids_list.append(neighbor.id)\n",
    "\n",
    "for img_id in n_ids_list:\n",
    "    \n",
    "    cat = train_csv.loc[train_csv['ImgId'] == img_id, 'categories'].item()\n",
    "    categories.append(cat)\n",
    "    \n",
    "print(f\"n_ids_list: {n_ids_list}\")\n",
    "print(f\"categories: {categories}\")"
   ]
  },
  {
   "cell_type": "markdown",
   "id": "b12e844b-8caf-4ed2-8661-d48a4f969533",
   "metadata": {},
   "source": [
    "# Archive"
   ]
  },
  {
   "cell_type": "code",
   "execution_count": 332,
   "id": "6ce16465-ad24-4a57-83d1-62dfc86bd17e",
   "metadata": {},
   "outputs": [
    {
     "data": {
      "text/plain": [
       "array([0.29701504, 0.2465528 , 0.        , ..., 0.2625323 , 0.45620498,\n",
       "       0.        ], dtype=float32)"
      ]
     },
     "execution_count": 332,
     "metadata": {},
     "output_type": "execute_result"
    }
   ],
   "source": [
    "cleaned_test_embs[1]"
   ]
  },
  {
   "cell_type": "code",
   "execution_count": null,
   "id": "c95b37ee-bd51-42b5-94bc-3aab4cb63e2d",
   "metadata": {},
   "outputs": [],
   "source": [
    "TEST_IMG_PATH = f'gs://{BUCKET}/{FILE_NAME}'\n",
    "array = read_and_decode(TEST_IMG_PATH)\n",
    "array.numpy()"
   ]
  },
  {
   "cell_type": "code",
   "execution_count": 336,
   "id": "65630e22-5d5f-4ef5-9e5e-36db541516ad",
   "metadata": {},
   "outputs": [
    {
     "data": {
      "text/plain": [
       "'data-full/train/train/B00ALQB3KO.jpg'"
      ]
     },
     "execution_count": 336,
     "metadata": {},
     "output_type": "execute_result"
    }
   ],
   "source": [
    "FILE_NAME"
   ]
  },
  {
   "cell_type": "code",
   "execution_count": 335,
   "id": "f9eeefc2-4fc2-4312-8dfb-d2f252aea8ba",
   "metadata": {},
   "outputs": [
    {
     "data": {
      "image/jpeg": "[encoded data removed]",
      "text/plain": [
       "<IPython.core.display.Image object>"
      ]
     },
     "execution_count": 335,
     "metadata": {
      "image/jpeg": {
       "height": 400,
       "width": 400
      }
     },
     "output_type": "execute_result"
    }
   ],
   "source": [
    "FILE_NAME = f'{DEST_FOLDER}/train/train/B00ALQB3KO.jpg'\n",
    "\n",
    "bucket = storage_client.get_bucket(BUCKET)\n",
    "blob = bucket.blob(FILE_NAME)\n",
    "Image(blob.download_as_bytes(), width=WIDTH, height=HEIGHT)"
   ]
  },
  {
   "cell_type": "code",
   "execution_count": 263,
   "id": "50108aeb-b69e-4c85-a74f-005259620683",
   "metadata": {},
   "outputs": [
    {
     "data": {
      "text/plain": [
       "'Toys & Games'"
      ]
     },
     "execution_count": 263,
     "metadata": {},
     "output_type": "execute_result"
    }
   ],
   "source": [
    "IMAGE_ID = '097585562X'\n",
    "\n",
    "cat = train_csv.loc[train_csv['ImgId'] == IMAGE_ID, 'categories'].item()\n",
    "cat"
   ]
  },
  {
   "cell_type": "markdown",
   "id": "b69759a7-8b8e-4cb1-bf0d-2a746f3775cf",
   "metadata": {},
   "source": [
    "### Compute Recall\n",
    "\n",
    "* see official example [here](https://github.com/GoogleCloudPlatform/vertex-ai-samples/blob/main/notebooks/official/matching_engine/sdk_matching_engine_for_indexing.ipynb)"
   ]
  },
  {
   "cell_type": "code",
   "execution_count": null,
   "id": "43098b85-32e0-4ec1-8de4-df0a4ec53cec",
   "metadata": {},
   "outputs": [],
   "source": [
    "# # Retrieve nearest neighbors for both the tree-AH index and the brute-force index\n",
    "# tree_ah_response_test = my_index_endpoint.match(\n",
    "#     deployed_index_id=DEPLOYED_INDEX_ID,\n",
    "#     queries=list(test),\n",
    "#     num_neighbors=NUM_NEIGHBOURS,\n",
    "# )\n",
    "# brute_force_response_test = my_index_endpoint.match(\n",
    "#     deployed_index_id=DEPLOYED_BRUTE_FORCE_INDEX_ID,\n",
    "#     queries=list(test),\n",
    "#     num_neighbors=NUM_NEIGHBOURS,\n",
    "# )"
   ]
  },
  {
   "cell_type": "code",
   "execution_count": null,
   "id": "7ad24eaa-064c-4f9b-bb02-23e0ee6af445",
   "metadata": {},
   "outputs": [],
   "source": [
    "# # Calculate recall by determining how many neighbors were correctly retrieved as compared to the brute-force option.\n",
    "# recalled_neighbors = 0\n",
    "# for tree_ah_neighbors, brute_force_neighbors in zip(\n",
    "#     tree_ah_response_test, brute_force_response_test\n",
    "# ):\n",
    "#     tree_ah_neighbor_ids = [neighbor.id for neighbor in tree_ah_neighbors]\n",
    "#     brute_force_neighbor_ids = [neighbor.id for neighbor in brute_force_neighbors]\n",
    "\n",
    "#     recalled_neighbors += len(\n",
    "#         set(tree_ah_neighbor_ids).intersection(brute_force_neighbor_ids)\n",
    "#     )\n",
    "\n",
    "# recall = recalled_neighbors / len(\n",
    "#     [neighbor for neighbors in brute_force_response_test for neighbor in neighbors]\n",
    "# )\n",
    "\n",
    "# print(\"Recall: {}\".format(recall))"
   ]
  },
  {
   "cell_type": "code",
   "execution_count": null,
   "id": "7cc0d9a8-d8ef-477d-b985-69ab555d32f3",
   "metadata": {},
   "outputs": [],
   "source": []
  }
 ],
 "metadata": {
  "environment": {
   "kernel": "python3",
   "name": "tf2-gpu.2-8.m95",
   "type": "gcloud",
   "uri": "gcr.io/deeplearning-platform-release/tf2-gpu.2-8:m95"
  },
  "kernelspec": {
   "display_name": "Python 3",
   "language": "python",
   "name": "python3"
  },
  "language_info": {
   "codemirror_mode": {
    "name": "ipython",
    "version": 3
   },
   "file_extension": ".py",
   "mimetype": "text/x-python",
   "name": "python",
   "nbconvert_exporter": "python",
   "pygments_lexer": "ipython3",
   "version": "3.7.12"
  }
 },
 "nbformat": 4,
 "nbformat_minor": 5
}
