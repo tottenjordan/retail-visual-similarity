{
 "cells": [
  {
   "cell_type": "code",
   "execution_count": 1,
   "id": "0657c705-4e9c-4e58-87a2-3cf03559a4ae",
   "metadata": {},
   "outputs": [],
   "source": [
    "import os\n",
    "from google.cloud import storage\n",
    "from google.cloud.storage.bucket import Bucket\n",
    "from google.cloud.storage.blob import Blob\n",
    "from datetime import datetime\n",
    "import tensorflow as tf\n",
    "import tensorflow_hub as hub"
   ]
  },
  {
   "cell_type": "code",
   "execution_count": 2,
   "id": "d003282f-1ac8-4e9e-958d-fac6d488eb31",
   "metadata": {},
   "outputs": [],
   "source": [
    "# Load compressed models from tensorflow_hub\n",
    "os.environ['TFHUB_MODEL_LOAD_FORMAT'] = 'COMPRESSED'\n",
    "\n",
    "# TODO: paramaterize\n",
    "IMG_HEIGHT = 224\n",
    "IMG_WIDTH = 224\n",
    "IMG_CHANNELS = 3\n",
    "BATCH_SIZE = 32\n",
    "NUM_IMAGES = 510\n",
    "NUM_NEIGH = 3 # top 3"
   ]
  },
  {
   "cell_type": "code",
   "execution_count": 3,
   "id": "1773a4fa-9047-44e6-a493-468e5a8bd27f",
   "metadata": {},
   "outputs": [],
   "source": [
    "# ==============================================================================\n",
    "# Define helper functions\n",
    "# ==============================================================================\n",
    "\n",
    "def _upload_blob_gcs(gcs_uri, source_file_name, destination_blob_name):\n",
    "    \"\"\"Uploads a file to GCS bucket\"\"\"\n",
    "    client = storage.Client(project=project)\n",
    "    blob = Blob.from_string(os.path.join(gcs_uri, destination_blob_name))\n",
    "    blob.bucket._client = client\n",
    "    blob.upload_from_filename(source_file_name)\n",
    "\n",
    "def read_and_decode(filename, reshape_dims=[IMG_HEIGHT, IMG_WIDTH]):\n",
    "    # Read the file\n",
    "    img = tf.io.read_file(filename)\n",
    "\n",
    "    # Convert the compressed string to a 3D uint8 tensor.\n",
    "    img = tf.image.decode_jpeg(img, channels=IMG_CHANNELS)\n",
    "\n",
    "    # Use `convert_image_dtype` to convert to floats in the [0,1] range.\n",
    "    # This makes the img 1 x 224 x 224 x 3 tensor with the data type of float32\n",
    "    img = tf.image.convert_image_dtype(img, tf.float32)[tf.newaxis, ...]\n",
    "\n",
    "    # Resize the image to the desired size.\n",
    "    return tf.image.resize(img, reshape_dims)\n",
    "\n",
    "def create_embeddings_dataset(embedder, img_path):\n",
    "    dataset_filenames = []\n",
    "    dataset_embeddings = []\n",
    "\n",
    "    list_dir = tf.io.gfile.listdir(img_path)\n",
    "\n",
    "    for file in list_dir:\n",
    "        img_tensor = read_and_decode(img_path + \"/\" + file, [IMG_WIDTH, IMG_HEIGHT])\n",
    "        embeddings = embedder(img_tensor)\n",
    "        dataset_filenames.append(img_path + \"/\" + file)\n",
    "        dataset_embeddings.extend(embeddings)\n",
    "\n",
    "    dataset_embeddings = tf.convert_to_tensor(dataset_embeddings)\n",
    "\n",
    "    return dataset_filenames, dataset_embeddings"
   ]
  },
  {
   "cell_type": "code",
   "execution_count": null,
   "id": "011867aa-b8d2-4521-ae9d-41ecd2733f9c",
   "metadata": {},
   "outputs": [],
   "source": [
    "# ==============================================================================\n",
    "# Download pre-trained model\n",
    "# ==============================================================================\n",
    "layers = [\n",
    "  hub.KerasLayer(\n",
    "      \"https://tfhub.dev/google/tf2-preview/mobilenet_v2/feature_vector/4\", # TODO: paramaterize\n",
    "      input_shape=(IMG_HEIGHT, IMG_WIDTH, IMG_CHANNELS),\n",
    "      trainable=False,\n",
    "      name='mobilenet_embedding'),\n",
    "  tf.keras.layers.Flatten()\n",
    "]\n",
    "\n",
    "model = tf.keras.Sequential(layers, name='pretrained_mobilenet') # TODO: paramaterize"
   ]
  },
  {
   "cell_type": "code",
   "execution_count": null,
   "id": "bcb07226-2270-4654-827d-f92e36363cfc",
   "metadata": {},
   "outputs": [],
   "source": [
    "TIMESTAMP = datetime.now().strftime(\"%Y%m%d%H%M%S\")\n",
    "MODEL_NAME = f'pipe-mobilenet_v2-{TIMESTAMP}'\n",
    "print(\"MODEL_NAME\", MODEL_NAME)"
   ]
  },
  {
   "cell_type": "code",
   "execution_count": null,
   "id": "1e305449-57e6-4916-8ac4-155607cde47e",
   "metadata": {},
   "outputs": [],
   "source": [
    "save_path = os.path.join(saved_model_gcs_bucket, MODEL_NAME) # \"gs://\", \n",
    "print(\"model save_path\", save_path)\n",
    "\n",
    "model.save(save_path)"
   ]
  },
  {
   "cell_type": "code",
   "execution_count": null,
   "id": "1ce96eb4-0413-43a6-9917-34ec1e03dceb",
   "metadata": {},
   "outputs": [],
   "source": []
  },
  {
   "cell_type": "code",
   "execution_count": null,
   "id": "2403567b-a2e9-490d-a664-838d394a6038",
   "metadata": {},
   "outputs": [],
   "source": []
  },
  {
   "cell_type": "code",
   "execution_count": null,
   "id": "b5857fb7-ffb4-410d-b992-cd09adb1f530",
   "metadata": {},
   "outputs": [],
   "source": []
  },
  {
   "cell_type": "code",
   "execution_count": null,
   "id": "38cc8fbc-39b9-4504-bb05-a99b8f04cc60",
   "metadata": {},
   "outputs": [],
   "source": []
  },
  {
   "cell_type": "code",
   "execution_count": null,
   "id": "6f2641f7-4756-4d84-a5ac-4aaeea8d96cf",
   "metadata": {},
   "outputs": [],
   "source": []
  }
 ],
 "metadata": {
  "environment": {
   "kernel": "python3",
   "name": "tf2-gpu.2-8.m95",
   "type": "gcloud",
   "uri": "gcr.io/deeplearning-platform-release/tf2-gpu.2-8:m95"
  },
  "kernelspec": {
   "display_name": "Python 3",
   "language": "python",
   "name": "python3"
  },
  "language_info": {
   "codemirror_mode": {
    "name": "ipython",
    "version": 3
   },
   "file_extension": ".py",
   "mimetype": "text/x-python",
   "name": "python",
   "nbconvert_exporter": "python",
   "pygments_lexer": "ipython3",
   "version": "3.7.12"
  }
 },
 "nbformat": 4,
 "nbformat_minor": 5
}
